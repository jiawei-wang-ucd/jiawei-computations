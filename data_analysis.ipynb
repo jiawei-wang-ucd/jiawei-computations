{
 "cells": [
  {
   "cell_type": "code",
   "execution_count": 1,
   "metadata": {},
   "outputs": [
    {
     "name": "stdout",
     "output_type": "stream",
     "text": [
      "welcome to data analysis.\n"
     ]
    }
   ],
   "source": [
    "print(\"welcome to data analysis.\")"
   ]
  },
  {
   "cell_type": "code",
   "execution_count": 2,
   "metadata": {},
   "outputs": [],
   "source": [
    "run ./scripts/analysis_scripts.py"
   ]
  },
  {
   "cell_type": "code",
   "execution_count": 3,
   "metadata": {},
   "outputs": [],
   "source": [
    "minimum_path = './computational-results-minimum/results_datatable'\n",
    "additive_faces_path = './computational-results-additive-faces/results_datatable'\n",
    "objective_zero_path = './computational-results-objective-zero/results_datatable'\n",
    "objective_one_percent_path = './computational-results-objective-one-percent/results_datatable/'"
   ]
  },
  {
   "cell_type": "code",
   "execution_count": 13,
   "metadata": {},
   "outputs": [],
   "source": [
    "path = minimum_path\n",
    "df = generate_dataframe(path,stats='arithmetic_mean')"
   ]
  },
  {
   "cell_type": "code",
   "execution_count": 15,
   "metadata": {},
   "outputs": [
    {
     "data": {
      "text/html": [
       "<div>\n",
       "<style scoped>\n",
       "    .dataframe tbody tr th:only-of-type {\n",
       "        vertical-align: middle;\n",
       "    }\n",
       "\n",
       "    .dataframe tbody tr th {\n",
       "        vertical-align: top;\n",
       "    }\n",
       "\n",
       "    .dataframe thead th {\n",
       "        text-align: right;\n",
       "    }\n",
       "</style>\n",
       "<table border=\"1\" class=\"dataframe\">\n",
       "  <thead>\n",
       "    <tr style=\"text-align: right;\">\n",
       "      <th></th>\n",
       "      <th>metric</th>\n",
       "      <th>sbb_bb_constant_bound</th>\n",
       "      <th>sbb_bfs_mixed_bound</th>\n",
       "      <th>sbb_bfs_constant_bound</th>\n",
       "      <th>sbb_dfs_lp_bound</th>\n",
       "      <th>sbb_bb_lp_bound</th>\n",
       "      <th>sbb_dfs_mixed_bound</th>\n",
       "      <th>sbb_bfs_lp_bound</th>\n",
       "      <th>naive_computation</th>\n",
       "      <th>mip_solver</th>\n",
       "      <th>sbb_dfs_constant_bound</th>\n",
       "      <th>sbb_bb_mixed_bound</th>\n",
       "    </tr>\n",
       "  </thead>\n",
       "  <tbody>\n",
       "    <tr>\n",
       "      <th>0</th>\n",
       "      <td>shifted_geometric_mean(shift=1)</td>\n",
       "      <td>5.609764</td>\n",
       "      <td>26.131734</td>\n",
       "      <td>5.791852</td>\n",
       "      <td>38.320046</td>\n",
       "      <td>25.595043</td>\n",
       "      <td>34.716032</td>\n",
       "      <td>28.557523</td>\n",
       "      <td>9.620252</td>\n",
       "      <td>1989.423926</td>\n",
       "      <td>5.958211</td>\n",
       "      <td>22.21913</td>\n",
       "    </tr>\n",
       "  </tbody>\n",
       "</table>\n",
       "</div>"
      ],
      "text/plain": [
       "                            metric  sbb_bb_constant_bound  \\\n",
       "0  shifted_geometric_mean(shift=1)               5.609764   \n",
       "\n",
       "   sbb_bfs_mixed_bound  sbb_bfs_constant_bound  sbb_dfs_lp_bound  \\\n",
       "0            26.131734                5.791852         38.320046   \n",
       "\n",
       "   sbb_bb_lp_bound  sbb_dfs_mixed_bound  sbb_bfs_lp_bound  naive_computation  \\\n",
       "0        25.595043            34.716032         28.557523           9.620252   \n",
       "\n",
       "    mip_solver  sbb_dfs_constant_bound  sbb_bb_mixed_bound  \n",
       "0  1989.423926                5.958211            22.21913  "
      ]
     },
     "execution_count": 15,
     "metadata": {},
     "output_type": "execute_result"
    }
   ],
   "source": [
    "shifted_gmean_df(df, s=1)"
   ]
  },
  {
   "cell_type": "code",
   "execution_count": 64,
   "metadata": {},
   "outputs": [],
   "source": [
    "def performance_profile_plot(df, time_out = 3600, tao_max = 100000, log_scale = True):\n",
    "    total_instances = df.shape[0]\n",
    "    best_time = df.min(axis = 1).to_list()\n",
    "    new_df = pd.DataFrame()\n",
    "    new_df['instances'] =  df['instances']\n",
    "    \n",
    "    def counttime(l,threshold):\n",
    "        return sum(1 if v<=threshold else 0 for v in l)\n",
    "    \n",
    "    for col in df.columns:\n",
    "        if col == 'instances':\n",
    "            continue\n",
    "        if log_scale:\n",
    "            new_df[col] = [math.log10(df[col][i]/best_time[i]) if df[col][i] < time_out else math.log10(tao_max) for i in range(len(best_time))]\n",
    "        else:\n",
    "            new_df[col] = [df[col][i]/best_time[i] if df[col][i] < time_out else tao_max for i in range(len(best_time))]\n",
    "    \n",
    "    plot_df = pd.DataFrame()\n",
    "    if log_scale:\n",
    "        X=[float(0+i*0.1) for i in range(int(math.log10(tao_max)*10-1))]\n",
    "    else:\n",
    "        X=[float(1+i*0.1) for i in range((tao_max-1)*10-1)]\n",
    "    print X\n",
    "    plot_df['tau'] = X\n",
    "    for col in df.columns:\n",
    "        if col == 'instances':\n",
    "            continue\n",
    "        plot_df[col] = [float(counttime(new_df[col], xx)/total_instances) for xx in X]\n",
    "    return plot_df\n",
    "    "
   ]
  },
  {
   "cell_type": "code",
   "execution_count": null,
   "metadata": {},
   "outputs": [],
   "source": []
  }
 ],
 "metadata": {
  "kernelspec": {
   "display_name": "Python 2",
   "language": "python",
   "name": "python2"
  },
  "language_info": {
   "codemirror_mode": {
    "name": "ipython",
    "version": 2
   },
   "file_extension": ".py",
   "mimetype": "text/x-python",
   "name": "python",
   "nbconvert_exporter": "python",
   "pygments_lexer": "ipython2",
   "version": "2.7.15"
  }
 },
 "nbformat": 4,
 "nbformat_minor": 4
}
