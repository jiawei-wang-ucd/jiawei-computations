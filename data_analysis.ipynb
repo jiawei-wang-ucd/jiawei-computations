{
 "cells": [
  {
   "cell_type": "code",
   "execution_count": 1,
   "metadata": {},
   "outputs": [
    {
     "name": "stdout",
     "output_type": "stream",
     "text": [
      "welcome to data analysis.\n"
     ]
    }
   ],
   "source": [
    "print(\"welcome to data analysis.\")"
   ]
  },
  {
   "cell_type": "code",
   "execution_count": 2,
   "metadata": {},
   "outputs": [],
   "source": [
    "run ./scripts/analysis_scripts.py"
   ]
  },
  {
   "cell_type": "code",
   "execution_count": 3,
   "metadata": {},
   "outputs": [],
   "source": [
    "minimum_path = './computational-results-minimum/results_datatable'\n",
    "additive_faces_path = './computational-results-additive-faces/results_datatable'\n",
    "objective_zero_path = './computational-results-objective-zero/results_datatable'\n",
    "objective_one_percent_path = './computational-results-objective-one-percent/results_datatable/'"
   ]
  },
  {
   "cell_type": "code",
   "execution_count": 8,
   "metadata": {},
   "outputs": [],
   "source": [
    "path = objective_one_percent_path\n",
    "df = generate_dataframe(path,stats='mean_t_distribution')"
   ]
  },
  {
   "cell_type": "code",
   "execution_count": 9,
   "metadata": {},
   "outputs": [
    {
     "data": {
      "text/html": [
       "<div>\n",
       "<style scoped>\n",
       "    .dataframe tbody tr th:only-of-type {\n",
       "        vertical-align: middle;\n",
       "    }\n",
       "\n",
       "    .dataframe tbody tr th {\n",
       "        vertical-align: top;\n",
       "    }\n",
       "\n",
       "    .dataframe thead th {\n",
       "        text-align: right;\n",
       "    }\n",
       "</style>\n",
       "<table border=\"1\" class=\"dataframe\">\n",
       "  <thead>\n",
       "    <tr style=\"text-align: right;\">\n",
       "      <th></th>\n",
       "      <th>metric</th>\n",
       "      <th>sbb_bb_constant_bound</th>\n",
       "      <th>sbb_bfs_mixed_bound</th>\n",
       "      <th>sbb_bfs_constant_bound</th>\n",
       "      <th>sbb_dfs_lp_bound</th>\n",
       "      <th>sbb_bb_lp_bound</th>\n",
       "      <th>sbb_dfs_mixed_bound</th>\n",
       "      <th>sbb_bfs_lp_bound</th>\n",
       "      <th>naive_computation</th>\n",
       "      <th>sbb_dfs_constant_bound</th>\n",
       "      <th>sbb_bb_mixed_bound</th>\n",
       "    </tr>\n",
       "  </thead>\n",
       "  <tbody>\n",
       "    <tr>\n",
       "      <th>0</th>\n",
       "      <td>shifted_geometric_mean(shift=1)</td>\n",
       "      <td>3.133346</td>\n",
       "      <td>4.713257</td>\n",
       "      <td>3.053098</td>\n",
       "      <td>7.324454</td>\n",
       "      <td>7.238484</td>\n",
       "      <td>4.567075</td>\n",
       "      <td>7.192693</td>\n",
       "      <td>9.992228</td>\n",
       "      <td>2.968973</td>\n",
       "      <td>4.584099</td>\n",
       "    </tr>\n",
       "  </tbody>\n",
       "</table>\n",
       "</div>"
      ],
      "text/plain": [
       "                            metric  sbb_bb_constant_bound  \\\n",
       "0  shifted_geometric_mean(shift=1)               3.133346   \n",
       "\n",
       "   sbb_bfs_mixed_bound  sbb_bfs_constant_bound  sbb_dfs_lp_bound  \\\n",
       "0             4.713257                3.053098          7.324454   \n",
       "\n",
       "   sbb_bb_lp_bound  sbb_dfs_mixed_bound  sbb_bfs_lp_bound  naive_computation  \\\n",
       "0         7.238484             4.567075          7.192693           9.992228   \n",
       "\n",
       "   sbb_dfs_constant_bound  sbb_bb_mixed_bound  \n",
       "0                2.968973            4.584099  "
      ]
     },
     "execution_count": 9,
     "metadata": {},
     "output_type": "execute_result"
    }
   ],
   "source": [
    "shifted_gmean_df(df, s=1)"
   ]
  },
  {
   "cell_type": "code",
   "execution_count": null,
   "metadata": {},
   "outputs": [],
   "source": []
  }
 ],
 "metadata": {
  "kernelspec": {
   "display_name": "Python 2",
   "language": "python",
   "name": "python2"
  },
  "language_info": {
   "codemirror_mode": {
    "name": "ipython",
    "version": 2
   },
   "file_extension": ".py",
   "mimetype": "text/x-python",
   "name": "python",
   "nbconvert_exporter": "python",
   "pygments_lexer": "ipython2",
   "version": "2.7.15"
  }
 },
 "nbformat": 4,
 "nbformat_minor": 4
}
